{
 "cells": [
  {
   "cell_type": "code",
   "execution_count": 2,
   "metadata": {},
   "outputs": [
    {
     "name": "stdout",
     "output_type": "stream",
     "text": [
      "weights\n[[-1.  -0.6 -0.2]\n [ 0.2  0.6  1. ]]\n~~~~~~~~~~~~\n[[-1.]\n [ 0.]\n [ 1.]]\n~~~~~~~~~~~~\n\n\nbiases\n[[ 0.  0.  0.]]\n~~~~~~~~~~~~\n[[ 0.]]\n~~~~~~~~~~~~\n\n\ninputs\n[[ 0.5  1.5]]\n~~~~~~~~~~~~\n[[-0.2  0.6  1.4]]\n~~~~~~~~~~~~\n[[ 1.4]]\n~~~~~~~~~~~~\n\n\noutputs\n[[ 0.5  1.5]]\n~~~~~~~~~~~~\n[[-0.   0.6  1.4]]\n~~~~~~~~~~~~\n[[ 1.4]]\n~~~~~~~~~~~~\n\n\nweight_errors\n[[ 0.52 -2.6 ]]\n~~~~~~~~~~~~\n[[ 0.   0.  -2.6]]\n~~~~~~~~~~~~\n[[-2.6]]\n~~~~~~~~~~~~\n\n\nweight_gradients\n[[ 0.26 -3.9 ]]\n~~~~~~~~~~~~\n[[-0.    0.   -3.64]]\n~~~~~~~~~~~~\n\n\nbias_gradients\n[[ 0.   0.  -2.6]]\n~~~~~~~~~~~~\n[[-2.6]]\n~~~~~~~~~~~~\n\n\n"
     ]
    }
   ],
   "source": [
    "from python.notebooks.backpropagation import RectifiedLinearUnit, QuadraticCost, FeedForward, \\\n",
    "    ConstantWeightGenerator, SequenceWeightGenerator\n",
    "\n",
    "net = FeedForward([2, 3, 1], RectifiedLinearUnit(), QuadraticCost(), SequenceWeightGenerator())\n",
    "net.forward_pass([.5, 1.5])\n",
    "net.backward_pass([4])\n",
    "net.print_state()"
   ]
  },
  {
   "cell_type": "code",
   "execution_count": null,
   "metadata": {},
   "outputs": [],
   "source": [
    ""
   ]
  }
 ],
 "metadata": {
  "kernelspec": {
   "display_name": "Python 2",
   "language": "python",
   "name": "python2"
  },
  "language_info": {
   "codemirror_mode": {
    "name": "ipython",
    "version": 2.0
   },
   "file_extension": ".py",
   "mimetype": "text/x-python",
   "name": "python",
   "nbconvert_exporter": "python",
   "pygments_lexer": "ipython2",
   "version": "2.7.6"
  }
 },
 "nbformat": 4,
 "nbformat_minor": 0
}