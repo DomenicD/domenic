{
 "cells": [
  {
   "cell_type": "code",
   "execution_count": 17,
   "metadata": {
    "collapsed": true
   },
   "outputs": [],
   "source": [
    "from typing import List, Callable\n",
    "import numpy as np\n",
    "\n",
    "\n",
    "class FeedForward:\n",
    "    def __init__(self, layers: List[int], activation: Callable[[float], float]):\n",
    "        self.layers = layers\n",
    "        self.activation = activation\n",
    "        self.weights = self._generate_weights()\n",
    "        self.biases = [np.zeros(n) for n in self.layers[1:]]\n",
    "        self.inputs = [np.zeros(n) for n in self.layers]\n",
    "        self.outputs = [np.zeros(n) for n in self.layers]\n",
    "        self.errors = [np.zeros(n) for n in self.layers]        \n",
    "\n",
    "    def _generate_weights(self) -> List[List[float]]:\n",
    "        return [np.random.rand(self.layers[i], self.layers[i + 1]) * 2 - .5 for i in\n",
    "                np.arange(len(self.layers) - 1)]\n",
    "    \n",
    "    def __call__(self, inputs: List[float]):\n",
    "        self.inputs[0] = inputs\n",
    "        self.outputs[0] = inputs\n",
    "        for i in np.arange(1, len(self.layers)):\n",
    "            self.inputs[i] = np.dot(self.outputs[i - 1], self.weights[i - 1]) + self.biases[i - 1]\n",
    "            self.outputs[i] = [self.activation(x) for x in self.inputs[i]]\n",
    "            \n",
    "    def print_state(self):\n",
    "        print(self.weights)\n",
    "        print(self.biases)\n",
    "        print(self.inputs)\n",
    "        print(self.outputs)\n",
    "        print(self.errors)"
   ]
  },
  {
   "cell_type": "code",
   "execution_count": 19,
   "metadata": {},
   "outputs": [
    {
     "name": "stdout",
     "output_type": "stream",
     "text": [
      "T: 0\n[array([[ 0.76865561,  0.97384985,  0.5097954 ],\n       [ 0.33811353,  0.97248127,  0.43695932]]), array([[ 1.39346475],\n       [ 0.94007414],\n       [-0.47681697]])]\n[array([ 0.,  0.,  0.]), array([ 0.])]\n[array([ 0.,  0.]), array([ 0.,  0.,  0.]), array([ 0.])]\n[array([ 0.,  0.]), array([ 0.,  0.,  0.]), array([ 0.])]\n[array([ 0.,  0.]), array([ 0.,  0.,  0.]), array([ 0.])]\nT: 1\n[array([[ 0.76865561,  0.97384985,  0.5097954 ],\n       [ 0.33811353,  0.97248127,  0.43695932]]), array([[ 1.39346475],\n       [ 0.94007414],\n       [-0.47681697]])]\n[array([ 0.,  0.,  0.]), array([ 0.])]\n[[0.5, 1.5], array([ 0.8914981 ,  1.94564683,  0.91033668]), array([ 2.63725948])]\n[[0.5, 1.5], [0.8914980987508665, 1.9456468339009851, 0.91033668013658997], [2.6372594772496334]]\n[array([ 0.,  0.]), array([ 0.,  0.,  0.]), array([ 0.])]\n"
     ]
    }
   ],
   "source": [
    "net = FeedForward([2, 3, 1], lambda x: x)\n",
    "print(\"T: 0\")\n",
    "net.print_state()\n",
    "net([.5, 1.5])\n",
    "print(\"T: 1\")\n",
    "net.print_state()"
   ]
  }
 ],
 "metadata": {
  "kernelspec": {
   "display_name": "Python 2",
   "language": "python",
   "name": "python2"
  },
  "language_info": {
   "codemirror_mode": {
    "name": "ipython",
    "version": 2.0
   },
   "file_extension": ".py",
   "mimetype": "text/x-python",
   "name": "python",
   "nbconvert_exporter": "python",
   "pygments_lexer": "ipython2",
   "version": "2.7.6"
  }
 },
 "nbformat": 4,
 "nbformat_minor": 0
}